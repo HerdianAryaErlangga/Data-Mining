{
 "cells": [
  {
   "cell_type": "code",
   "execution_count": 4,
   "id": "356274af-c645-4904-980c-0fb4f9fa6708",
   "metadata": {},
   "outputs": [],
   "source": [
    "from matplotlib import pyplot as plt\n",
    "import pandas as pd\n",
    "import numpy as np\n",
    "import seaborn as sns"
   ]
  },
  {
   "cell_type": "code",
   "execution_count": 5,
   "id": "1327f322-70a6-4164-9211-c7a3331d049d",
   "metadata": {},
   "outputs": [
    {
     "data": {
      "text/html": [
       "<div>\n",
       "<style scoped>\n",
       "    .dataframe tbody tr th:only-of-type {\n",
       "        vertical-align: middle;\n",
       "    }\n",
       "\n",
       "    .dataframe tbody tr th {\n",
       "        vertical-align: top;\n",
       "    }\n",
       "\n",
       "    .dataframe thead th {\n",
       "        text-align: right;\n",
       "    }\n",
       "</style>\n",
       "<table border=\"1\" class=\"dataframe\">\n",
       "  <thead>\n",
       "    <tr style=\"text-align: right;\">\n",
       "      <th></th>\n",
       "      <th>id</th>\n",
       "      <th>age</th>\n",
       "      <th>sex</th>\n",
       "      <th>dataset</th>\n",
       "      <th>cp</th>\n",
       "      <th>trestbps</th>\n",
       "      <th>chol</th>\n",
       "      <th>fbs</th>\n",
       "      <th>restecg</th>\n",
       "      <th>thalch</th>\n",
       "      <th>exang</th>\n",
       "      <th>oldpeak</th>\n",
       "      <th>slope</th>\n",
       "      <th>ca</th>\n",
       "      <th>thal</th>\n",
       "      <th>num</th>\n",
       "    </tr>\n",
       "  </thead>\n",
       "  <tbody>\n",
       "    <tr>\n",
       "      <th>0</th>\n",
       "      <td>1</td>\n",
       "      <td>63</td>\n",
       "      <td>Male</td>\n",
       "      <td>Cleveland</td>\n",
       "      <td>typical angina</td>\n",
       "      <td>145.0</td>\n",
       "      <td>233.0</td>\n",
       "      <td>True</td>\n",
       "      <td>lv hypertrophy</td>\n",
       "      <td>150.0</td>\n",
       "      <td>False</td>\n",
       "      <td>2.3</td>\n",
       "      <td>downsloping</td>\n",
       "      <td>0.0</td>\n",
       "      <td>fixed defect</td>\n",
       "      <td>0</td>\n",
       "    </tr>\n",
       "    <tr>\n",
       "      <th>1</th>\n",
       "      <td>2</td>\n",
       "      <td>67</td>\n",
       "      <td>Male</td>\n",
       "      <td>Cleveland</td>\n",
       "      <td>asymptomatic</td>\n",
       "      <td>160.0</td>\n",
       "      <td>286.0</td>\n",
       "      <td>False</td>\n",
       "      <td>lv hypertrophy</td>\n",
       "      <td>108.0</td>\n",
       "      <td>True</td>\n",
       "      <td>1.5</td>\n",
       "      <td>flat</td>\n",
       "      <td>3.0</td>\n",
       "      <td>normal</td>\n",
       "      <td>2</td>\n",
       "    </tr>\n",
       "    <tr>\n",
       "      <th>2</th>\n",
       "      <td>3</td>\n",
       "      <td>67</td>\n",
       "      <td>Male</td>\n",
       "      <td>Cleveland</td>\n",
       "      <td>asymptomatic</td>\n",
       "      <td>120.0</td>\n",
       "      <td>229.0</td>\n",
       "      <td>False</td>\n",
       "      <td>lv hypertrophy</td>\n",
       "      <td>129.0</td>\n",
       "      <td>True</td>\n",
       "      <td>2.6</td>\n",
       "      <td>flat</td>\n",
       "      <td>2.0</td>\n",
       "      <td>reversable defect</td>\n",
       "      <td>1</td>\n",
       "    </tr>\n",
       "    <tr>\n",
       "      <th>3</th>\n",
       "      <td>4</td>\n",
       "      <td>37</td>\n",
       "      <td>Male</td>\n",
       "      <td>Cleveland</td>\n",
       "      <td>non-anginal</td>\n",
       "      <td>130.0</td>\n",
       "      <td>250.0</td>\n",
       "      <td>False</td>\n",
       "      <td>normal</td>\n",
       "      <td>187.0</td>\n",
       "      <td>False</td>\n",
       "      <td>3.5</td>\n",
       "      <td>downsloping</td>\n",
       "      <td>0.0</td>\n",
       "      <td>normal</td>\n",
       "      <td>0</td>\n",
       "    </tr>\n",
       "    <tr>\n",
       "      <th>4</th>\n",
       "      <td>5</td>\n",
       "      <td>41</td>\n",
       "      <td>Female</td>\n",
       "      <td>Cleveland</td>\n",
       "      <td>atypical angina</td>\n",
       "      <td>130.0</td>\n",
       "      <td>204.0</td>\n",
       "      <td>False</td>\n",
       "      <td>lv hypertrophy</td>\n",
       "      <td>172.0</td>\n",
       "      <td>False</td>\n",
       "      <td>1.4</td>\n",
       "      <td>upsloping</td>\n",
       "      <td>0.0</td>\n",
       "      <td>normal</td>\n",
       "      <td>0</td>\n",
       "    </tr>\n",
       "    <tr>\n",
       "      <th>...</th>\n",
       "      <td>...</td>\n",
       "      <td>...</td>\n",
       "      <td>...</td>\n",
       "      <td>...</td>\n",
       "      <td>...</td>\n",
       "      <td>...</td>\n",
       "      <td>...</td>\n",
       "      <td>...</td>\n",
       "      <td>...</td>\n",
       "      <td>...</td>\n",
       "      <td>...</td>\n",
       "      <td>...</td>\n",
       "      <td>...</td>\n",
       "      <td>...</td>\n",
       "      <td>...</td>\n",
       "      <td>...</td>\n",
       "    </tr>\n",
       "    <tr>\n",
       "      <th>915</th>\n",
       "      <td>916</td>\n",
       "      <td>54</td>\n",
       "      <td>Female</td>\n",
       "      <td>VA Long Beach</td>\n",
       "      <td>asymptomatic</td>\n",
       "      <td>127.0</td>\n",
       "      <td>333.0</td>\n",
       "      <td>True</td>\n",
       "      <td>st-t abnormality</td>\n",
       "      <td>154.0</td>\n",
       "      <td>False</td>\n",
       "      <td>0.0</td>\n",
       "      <td>NaN</td>\n",
       "      <td>NaN</td>\n",
       "      <td>NaN</td>\n",
       "      <td>1</td>\n",
       "    </tr>\n",
       "    <tr>\n",
       "      <th>916</th>\n",
       "      <td>917</td>\n",
       "      <td>62</td>\n",
       "      <td>Male</td>\n",
       "      <td>VA Long Beach</td>\n",
       "      <td>typical angina</td>\n",
       "      <td>NaN</td>\n",
       "      <td>139.0</td>\n",
       "      <td>False</td>\n",
       "      <td>st-t abnormality</td>\n",
       "      <td>NaN</td>\n",
       "      <td>NaN</td>\n",
       "      <td>NaN</td>\n",
       "      <td>NaN</td>\n",
       "      <td>NaN</td>\n",
       "      <td>NaN</td>\n",
       "      <td>0</td>\n",
       "    </tr>\n",
       "    <tr>\n",
       "      <th>917</th>\n",
       "      <td>918</td>\n",
       "      <td>55</td>\n",
       "      <td>Male</td>\n",
       "      <td>VA Long Beach</td>\n",
       "      <td>asymptomatic</td>\n",
       "      <td>122.0</td>\n",
       "      <td>223.0</td>\n",
       "      <td>True</td>\n",
       "      <td>st-t abnormality</td>\n",
       "      <td>100.0</td>\n",
       "      <td>False</td>\n",
       "      <td>0.0</td>\n",
       "      <td>NaN</td>\n",
       "      <td>NaN</td>\n",
       "      <td>fixed defect</td>\n",
       "      <td>2</td>\n",
       "    </tr>\n",
       "    <tr>\n",
       "      <th>918</th>\n",
       "      <td>919</td>\n",
       "      <td>58</td>\n",
       "      <td>Male</td>\n",
       "      <td>VA Long Beach</td>\n",
       "      <td>asymptomatic</td>\n",
       "      <td>NaN</td>\n",
       "      <td>385.0</td>\n",
       "      <td>True</td>\n",
       "      <td>lv hypertrophy</td>\n",
       "      <td>NaN</td>\n",
       "      <td>NaN</td>\n",
       "      <td>NaN</td>\n",
       "      <td>NaN</td>\n",
       "      <td>NaN</td>\n",
       "      <td>NaN</td>\n",
       "      <td>0</td>\n",
       "    </tr>\n",
       "    <tr>\n",
       "      <th>919</th>\n",
       "      <td>920</td>\n",
       "      <td>62</td>\n",
       "      <td>Male</td>\n",
       "      <td>VA Long Beach</td>\n",
       "      <td>atypical angina</td>\n",
       "      <td>120.0</td>\n",
       "      <td>254.0</td>\n",
       "      <td>False</td>\n",
       "      <td>lv hypertrophy</td>\n",
       "      <td>93.0</td>\n",
       "      <td>True</td>\n",
       "      <td>0.0</td>\n",
       "      <td>NaN</td>\n",
       "      <td>NaN</td>\n",
       "      <td>NaN</td>\n",
       "      <td>1</td>\n",
       "    </tr>\n",
       "  </tbody>\n",
       "</table>\n",
       "<p>920 rows × 16 columns</p>\n",
       "</div>"
      ],
      "text/plain": [
       "      id  age     sex        dataset               cp  trestbps   chol    fbs  \\\n",
       "0      1   63    Male      Cleveland   typical angina     145.0  233.0   True   \n",
       "1      2   67    Male      Cleveland     asymptomatic     160.0  286.0  False   \n",
       "2      3   67    Male      Cleveland     asymptomatic     120.0  229.0  False   \n",
       "3      4   37    Male      Cleveland      non-anginal     130.0  250.0  False   \n",
       "4      5   41  Female      Cleveland  atypical angina     130.0  204.0  False   \n",
       "..   ...  ...     ...            ...              ...       ...    ...    ...   \n",
       "915  916   54  Female  VA Long Beach     asymptomatic     127.0  333.0   True   \n",
       "916  917   62    Male  VA Long Beach   typical angina       NaN  139.0  False   \n",
       "917  918   55    Male  VA Long Beach     asymptomatic     122.0  223.0   True   \n",
       "918  919   58    Male  VA Long Beach     asymptomatic       NaN  385.0   True   \n",
       "919  920   62    Male  VA Long Beach  atypical angina     120.0  254.0  False   \n",
       "\n",
       "              restecg  thalch  exang  oldpeak        slope   ca  \\\n",
       "0      lv hypertrophy   150.0  False      2.3  downsloping  0.0   \n",
       "1      lv hypertrophy   108.0   True      1.5         flat  3.0   \n",
       "2      lv hypertrophy   129.0   True      2.6         flat  2.0   \n",
       "3              normal   187.0  False      3.5  downsloping  0.0   \n",
       "4      lv hypertrophy   172.0  False      1.4    upsloping  0.0   \n",
       "..                ...     ...    ...      ...          ...  ...   \n",
       "915  st-t abnormality   154.0  False      0.0          NaN  NaN   \n",
       "916  st-t abnormality     NaN    NaN      NaN          NaN  NaN   \n",
       "917  st-t abnormality   100.0  False      0.0          NaN  NaN   \n",
       "918    lv hypertrophy     NaN    NaN      NaN          NaN  NaN   \n",
       "919    lv hypertrophy    93.0   True      0.0          NaN  NaN   \n",
       "\n",
       "                  thal  num  \n",
       "0         fixed defect    0  \n",
       "1               normal    2  \n",
       "2    reversable defect    1  \n",
       "3               normal    0  \n",
       "4               normal    0  \n",
       "..                 ...  ...  \n",
       "915                NaN    1  \n",
       "916                NaN    0  \n",
       "917       fixed defect    2  \n",
       "918                NaN    0  \n",
       "919                NaN    1  \n",
       "\n",
       "[920 rows x 16 columns]"
      ]
     },
     "execution_count": 5,
     "metadata": {},
     "output_type": "execute_result"
    }
   ],
   "source": [
    "mydata = pd.read_csv('DataSetPenyakitJantung.csv')\n",
    "mydata"
   ]
  },
  {
   "cell_type": "code",
   "execution_count": 6,
   "id": "6a237e22-7c4f-4ae6-a799-9bd1d920e0d5",
   "metadata": {},
   "outputs": [
    {
     "data": {
      "text/html": [
       "<div>\n",
       "<style scoped>\n",
       "    .dataframe tbody tr th:only-of-type {\n",
       "        vertical-align: middle;\n",
       "    }\n",
       "\n",
       "    .dataframe tbody tr th {\n",
       "        vertical-align: top;\n",
       "    }\n",
       "\n",
       "    .dataframe thead th {\n",
       "        text-align: right;\n",
       "    }\n",
       "</style>\n",
       "<table border=\"1\" class=\"dataframe\">\n",
       "  <thead>\n",
       "    <tr style=\"text-align: right;\">\n",
       "      <th></th>\n",
       "      <th>id</th>\n",
       "      <th>age</th>\n",
       "      <th>sex</th>\n",
       "      <th>dataset</th>\n",
       "      <th>cp</th>\n",
       "      <th>trestbps</th>\n",
       "      <th>chol</th>\n",
       "      <th>fbs</th>\n",
       "      <th>restecg</th>\n",
       "      <th>thalch</th>\n",
       "      <th>exang</th>\n",
       "      <th>oldpeak</th>\n",
       "      <th>slope</th>\n",
       "      <th>ca</th>\n",
       "      <th>thal</th>\n",
       "      <th>num</th>\n",
       "    </tr>\n",
       "  </thead>\n",
       "  <tbody>\n",
       "    <tr>\n",
       "      <th>0</th>\n",
       "      <td>1</td>\n",
       "      <td>63</td>\n",
       "      <td>Male</td>\n",
       "      <td>Cleveland</td>\n",
       "      <td>typical angina</td>\n",
       "      <td>145.0</td>\n",
       "      <td>233.0</td>\n",
       "      <td>True</td>\n",
       "      <td>lv hypertrophy</td>\n",
       "      <td>150.0</td>\n",
       "      <td>False</td>\n",
       "      <td>2.3</td>\n",
       "      <td>downsloping</td>\n",
       "      <td>0.0</td>\n",
       "      <td>fixed defect</td>\n",
       "      <td>0</td>\n",
       "    </tr>\n",
       "    <tr>\n",
       "      <th>1</th>\n",
       "      <td>2</td>\n",
       "      <td>67</td>\n",
       "      <td>Male</td>\n",
       "      <td>Cleveland</td>\n",
       "      <td>asymptomatic</td>\n",
       "      <td>160.0</td>\n",
       "      <td>286.0</td>\n",
       "      <td>False</td>\n",
       "      <td>lv hypertrophy</td>\n",
       "      <td>108.0</td>\n",
       "      <td>True</td>\n",
       "      <td>1.5</td>\n",
       "      <td>flat</td>\n",
       "      <td>3.0</td>\n",
       "      <td>normal</td>\n",
       "      <td>2</td>\n",
       "    </tr>\n",
       "    <tr>\n",
       "      <th>2</th>\n",
       "      <td>3</td>\n",
       "      <td>67</td>\n",
       "      <td>Male</td>\n",
       "      <td>Cleveland</td>\n",
       "      <td>asymptomatic</td>\n",
       "      <td>120.0</td>\n",
       "      <td>229.0</td>\n",
       "      <td>False</td>\n",
       "      <td>lv hypertrophy</td>\n",
       "      <td>129.0</td>\n",
       "      <td>True</td>\n",
       "      <td>2.6</td>\n",
       "      <td>flat</td>\n",
       "      <td>2.0</td>\n",
       "      <td>reversable defect</td>\n",
       "      <td>1</td>\n",
       "    </tr>\n",
       "    <tr>\n",
       "      <th>3</th>\n",
       "      <td>4</td>\n",
       "      <td>37</td>\n",
       "      <td>Male</td>\n",
       "      <td>Cleveland</td>\n",
       "      <td>non-anginal</td>\n",
       "      <td>130.0</td>\n",
       "      <td>250.0</td>\n",
       "      <td>False</td>\n",
       "      <td>normal</td>\n",
       "      <td>187.0</td>\n",
       "      <td>False</td>\n",
       "      <td>3.5</td>\n",
       "      <td>downsloping</td>\n",
       "      <td>0.0</td>\n",
       "      <td>normal</td>\n",
       "      <td>0</td>\n",
       "    </tr>\n",
       "    <tr>\n",
       "      <th>4</th>\n",
       "      <td>5</td>\n",
       "      <td>41</td>\n",
       "      <td>Female</td>\n",
       "      <td>Cleveland</td>\n",
       "      <td>atypical angina</td>\n",
       "      <td>130.0</td>\n",
       "      <td>204.0</td>\n",
       "      <td>False</td>\n",
       "      <td>lv hypertrophy</td>\n",
       "      <td>172.0</td>\n",
       "      <td>False</td>\n",
       "      <td>1.4</td>\n",
       "      <td>upsloping</td>\n",
       "      <td>0.0</td>\n",
       "      <td>normal</td>\n",
       "      <td>0</td>\n",
       "    </tr>\n",
       "  </tbody>\n",
       "</table>\n",
       "</div>"
      ],
      "text/plain": [
       "   id  age     sex    dataset               cp  trestbps   chol    fbs  \\\n",
       "0   1   63    Male  Cleveland   typical angina     145.0  233.0   True   \n",
       "1   2   67    Male  Cleveland     asymptomatic     160.0  286.0  False   \n",
       "2   3   67    Male  Cleveland     asymptomatic     120.0  229.0  False   \n",
       "3   4   37    Male  Cleveland      non-anginal     130.0  250.0  False   \n",
       "4   5   41  Female  Cleveland  atypical angina     130.0  204.0  False   \n",
       "\n",
       "          restecg  thalch  exang  oldpeak        slope   ca  \\\n",
       "0  lv hypertrophy   150.0  False      2.3  downsloping  0.0   \n",
       "1  lv hypertrophy   108.0   True      1.5         flat  3.0   \n",
       "2  lv hypertrophy   129.0   True      2.6         flat  2.0   \n",
       "3          normal   187.0  False      3.5  downsloping  0.0   \n",
       "4  lv hypertrophy   172.0  False      1.4    upsloping  0.0   \n",
       "\n",
       "                thal  num  \n",
       "0       fixed defect    0  \n",
       "1             normal    2  \n",
       "2  reversable defect    1  \n",
       "3             normal    0  \n",
       "4             normal    0  "
      ]
     },
     "execution_count": 6,
     "metadata": {},
     "output_type": "execute_result"
    }
   ],
   "source": [
    "mydata.head()"
   ]
  },
  {
   "cell_type": "code",
   "execution_count": 7,
   "id": "1e1649e3-0cad-4c80-be9d-e05c17495a6f",
   "metadata": {},
   "outputs": [
    {
     "data": {
      "text/html": [
       "<div>\n",
       "<style scoped>\n",
       "    .dataframe tbody tr th:only-of-type {\n",
       "        vertical-align: middle;\n",
       "    }\n",
       "\n",
       "    .dataframe tbody tr th {\n",
       "        vertical-align: top;\n",
       "    }\n",
       "\n",
       "    .dataframe thead th {\n",
       "        text-align: right;\n",
       "    }\n",
       "</style>\n",
       "<table border=\"1\" class=\"dataframe\">\n",
       "  <thead>\n",
       "    <tr style=\"text-align: right;\">\n",
       "      <th></th>\n",
       "      <th>id</th>\n",
       "      <th>age</th>\n",
       "      <th>sex</th>\n",
       "      <th>dataset</th>\n",
       "      <th>cp</th>\n",
       "      <th>trestbps</th>\n",
       "      <th>chol</th>\n",
       "      <th>fbs</th>\n",
       "      <th>restecg</th>\n",
       "      <th>thalch</th>\n",
       "      <th>exang</th>\n",
       "      <th>oldpeak</th>\n",
       "      <th>slope</th>\n",
       "      <th>ca</th>\n",
       "      <th>thal</th>\n",
       "      <th>num</th>\n",
       "    </tr>\n",
       "  </thead>\n",
       "  <tbody>\n",
       "    <tr>\n",
       "      <th>915</th>\n",
       "      <td>916</td>\n",
       "      <td>54</td>\n",
       "      <td>Female</td>\n",
       "      <td>VA Long Beach</td>\n",
       "      <td>asymptomatic</td>\n",
       "      <td>127.0</td>\n",
       "      <td>333.0</td>\n",
       "      <td>True</td>\n",
       "      <td>st-t abnormality</td>\n",
       "      <td>154.0</td>\n",
       "      <td>False</td>\n",
       "      <td>0.0</td>\n",
       "      <td>NaN</td>\n",
       "      <td>NaN</td>\n",
       "      <td>NaN</td>\n",
       "      <td>1</td>\n",
       "    </tr>\n",
       "    <tr>\n",
       "      <th>916</th>\n",
       "      <td>917</td>\n",
       "      <td>62</td>\n",
       "      <td>Male</td>\n",
       "      <td>VA Long Beach</td>\n",
       "      <td>typical angina</td>\n",
       "      <td>NaN</td>\n",
       "      <td>139.0</td>\n",
       "      <td>False</td>\n",
       "      <td>st-t abnormality</td>\n",
       "      <td>NaN</td>\n",
       "      <td>NaN</td>\n",
       "      <td>NaN</td>\n",
       "      <td>NaN</td>\n",
       "      <td>NaN</td>\n",
       "      <td>NaN</td>\n",
       "      <td>0</td>\n",
       "    </tr>\n",
       "    <tr>\n",
       "      <th>917</th>\n",
       "      <td>918</td>\n",
       "      <td>55</td>\n",
       "      <td>Male</td>\n",
       "      <td>VA Long Beach</td>\n",
       "      <td>asymptomatic</td>\n",
       "      <td>122.0</td>\n",
       "      <td>223.0</td>\n",
       "      <td>True</td>\n",
       "      <td>st-t abnormality</td>\n",
       "      <td>100.0</td>\n",
       "      <td>False</td>\n",
       "      <td>0.0</td>\n",
       "      <td>NaN</td>\n",
       "      <td>NaN</td>\n",
       "      <td>fixed defect</td>\n",
       "      <td>2</td>\n",
       "    </tr>\n",
       "    <tr>\n",
       "      <th>918</th>\n",
       "      <td>919</td>\n",
       "      <td>58</td>\n",
       "      <td>Male</td>\n",
       "      <td>VA Long Beach</td>\n",
       "      <td>asymptomatic</td>\n",
       "      <td>NaN</td>\n",
       "      <td>385.0</td>\n",
       "      <td>True</td>\n",
       "      <td>lv hypertrophy</td>\n",
       "      <td>NaN</td>\n",
       "      <td>NaN</td>\n",
       "      <td>NaN</td>\n",
       "      <td>NaN</td>\n",
       "      <td>NaN</td>\n",
       "      <td>NaN</td>\n",
       "      <td>0</td>\n",
       "    </tr>\n",
       "    <tr>\n",
       "      <th>919</th>\n",
       "      <td>920</td>\n",
       "      <td>62</td>\n",
       "      <td>Male</td>\n",
       "      <td>VA Long Beach</td>\n",
       "      <td>atypical angina</td>\n",
       "      <td>120.0</td>\n",
       "      <td>254.0</td>\n",
       "      <td>False</td>\n",
       "      <td>lv hypertrophy</td>\n",
       "      <td>93.0</td>\n",
       "      <td>True</td>\n",
       "      <td>0.0</td>\n",
       "      <td>NaN</td>\n",
       "      <td>NaN</td>\n",
       "      <td>NaN</td>\n",
       "      <td>1</td>\n",
       "    </tr>\n",
       "  </tbody>\n",
       "</table>\n",
       "</div>"
      ],
      "text/plain": [
       "      id  age     sex        dataset               cp  trestbps   chol    fbs  \\\n",
       "915  916   54  Female  VA Long Beach     asymptomatic     127.0  333.0   True   \n",
       "916  917   62    Male  VA Long Beach   typical angina       NaN  139.0  False   \n",
       "917  918   55    Male  VA Long Beach     asymptomatic     122.0  223.0   True   \n",
       "918  919   58    Male  VA Long Beach     asymptomatic       NaN  385.0   True   \n",
       "919  920   62    Male  VA Long Beach  atypical angina     120.0  254.0  False   \n",
       "\n",
       "              restecg  thalch  exang  oldpeak slope  ca          thal  num  \n",
       "915  st-t abnormality   154.0  False      0.0   NaN NaN           NaN    1  \n",
       "916  st-t abnormality     NaN    NaN      NaN   NaN NaN           NaN    0  \n",
       "917  st-t abnormality   100.0  False      0.0   NaN NaN  fixed defect    2  \n",
       "918    lv hypertrophy     NaN    NaN      NaN   NaN NaN           NaN    0  \n",
       "919    lv hypertrophy    93.0   True      0.0   NaN NaN           NaN    1  "
      ]
     },
     "execution_count": 7,
     "metadata": {},
     "output_type": "execute_result"
    }
   ],
   "source": [
    "mydata.tail()"
   ]
  },
  {
   "cell_type": "code",
   "execution_count": 12,
   "id": "eae4244c-7f97-495c-8a4d-f2010e326348",
   "metadata": {},
   "outputs": [
    {
     "name": "stdout",
     "output_type": "stream",
     "text": [
      "<class 'pandas.core.frame.DataFrame'>\n",
      "RangeIndex: 920 entries, 0 to 919\n",
      "Data columns (total 16 columns):\n",
      " #   Column    Non-Null Count  Dtype  \n",
      "---  ------    --------------  -----  \n",
      " 0   id        920 non-null    int64  \n",
      " 1   age       920 non-null    int64  \n",
      " 2   sex       920 non-null    object \n",
      " 3   dataset   920 non-null    object \n",
      " 4   cp        920 non-null    object \n",
      " 5   trestbps  861 non-null    float64\n",
      " 6   chol      890 non-null    float64\n",
      " 7   fbs       830 non-null    object \n",
      " 8   restecg   918 non-null    object \n",
      " 9   thalch    865 non-null    float64\n",
      " 10  exang     865 non-null    object \n",
      " 11  oldpeak   858 non-null    float64\n",
      " 12  slope     611 non-null    object \n",
      " 13  ca        309 non-null    float64\n",
      " 14  thal      434 non-null    object \n",
      " 15  num       920 non-null    int64  \n",
      "dtypes: float64(5), int64(3), object(8)\n",
      "memory usage: 115.1+ KB\n"
     ]
    }
   ],
   "source": [
    "mydata.info()"
   ]
  },
  {
   "cell_type": "code",
   "execution_count": 14,
   "id": "4d8a654b-c7f8-41ad-9c5f-e8b7bffc4eb2",
   "metadata": {},
   "outputs": [
    {
     "data": {
      "text/plain": [
       "id            0\n",
       "age           0\n",
       "sex           0\n",
       "dataset       0\n",
       "cp            0\n",
       "trestbps     59\n",
       "chol         30\n",
       "fbs          90\n",
       "restecg       2\n",
       "thalch       55\n",
       "exang        55\n",
       "oldpeak      62\n",
       "slope       309\n",
       "ca          611\n",
       "thal        486\n",
       "num           0\n",
       "dtype: int64"
      ]
     },
     "execution_count": 14,
     "metadata": {},
     "output_type": "execute_result"
    }
   ],
   "source": [
    "mydata.isnull().sum()"
   ]
  },
  {
   "cell_type": "code",
   "execution_count": 16,
   "id": "e5fb1b36-7098-4726-9571-d1188ead84e8",
   "metadata": {},
   "outputs": [
    {
     "name": "stdout",
     "output_type": "stream",
     "text": [
      "{'id': 0, 'age': 0, 'trestbps': 28, 'chol': 183, 'thalch': 2, 'oldpeak': 16, 'ca': 20, 'num': 0}\n"
     ]
    }
   ],
   "source": [
    "numeric_data = mydata.select_dtypes(include=np.number)\n",
    "outliers = {}\n",
    "for col in numeric_data:\n",
    "    Q1 = mydata[col].quantile(0.25)\n",
    "    Q3 = mydata[col].quantile(0.75)\n",
    "    IQR = Q3 - Q1\n",
    "    lower_bound = Q1 - 1.5 * IQR\n",
    "    upper_bound = Q3 + 1.5 * IQR\n",
    "    outliers[col] = mydata[(mydata[col] < lower_bound) | (mydata[col] > upper_bound)].shape[0]\n",
    "\n",
    "print(outliers)"
   ]
  },
  {
   "cell_type": "code",
   "execution_count": 18,
   "id": "4ba9eef5-b46e-440b-a7dd-2899ac6eba32",
   "metadata": {},
   "outputs": [
    {
     "name": "stdout",
     "output_type": "stream",
     "text": [
      "      id  age  trestbps   chol  thalch  oldpeak   ca  num\n",
      "0      1   63     145.0  233.0   150.0      2.3  0.0    0\n",
      "1      2   67     160.0  286.0   108.0      1.5  3.0    2\n",
      "2      3   67     120.0  229.0   129.0      2.6  2.0    1\n",
      "3      4   37     130.0  250.0   187.0      3.5  0.0    0\n",
      "4      5   41     130.0  204.0   172.0      1.4  0.0    0\n",
      "..   ...  ...       ...    ...     ...      ...  ...  ...\n",
      "915  916   54     127.0  333.0   154.0      0.0  NaN    1\n",
      "916  917   62       NaN  139.0     NaN      NaN  NaN    0\n",
      "917  918   55     122.0  223.0   100.0      0.0  NaN    2\n",
      "918  919   58       NaN  385.0     NaN      NaN  NaN    0\n",
      "919  920   62     120.0  254.0    93.0      0.0  NaN    1\n",
      "\n",
      "[920 rows x 8 columns]\n"
     ]
    }
   ],
   "source": [
    "print(numeric_data)"
   ]
  },
  {
   "cell_type": "code",
   "execution_count": 20,
   "id": "79a2c296-8ebf-4251-84f3-4cfb660886b4",
   "metadata": {},
   "outputs": [
    {
     "data": {
      "text/plain": [
       "id          460.500000\n",
       "age          53.510870\n",
       "trestbps    132.132404\n",
       "chol        199.130337\n",
       "thalch      137.545665\n",
       "oldpeak       0.878788\n",
       "ca            0.676375\n",
       "num           0.995652\n",
       "dtype: float64"
      ]
     },
     "execution_count": 20,
     "metadata": {},
     "output_type": "execute_result"
    }
   ],
   "source": [
    "means = numeric_data.mean()\n",
    "means"
   ]
  },
  {
   "cell_type": "code",
   "execution_count": 22,
   "id": "6bf5ac38-e1a2-4604-9ca4-1f2a396eac14",
   "metadata": {},
   "outputs": [
    {
     "data": {
      "text/plain": [
       "id          460.5\n",
       "age          54.0\n",
       "trestbps    130.0\n",
       "chol        223.0\n",
       "thalch      140.0\n",
       "oldpeak       0.5\n",
       "ca            0.0\n",
       "num           1.0\n",
       "dtype: float64"
      ]
     },
     "execution_count": 22,
     "metadata": {},
     "output_type": "execute_result"
    }
   ],
   "source": [
    "medians = numeric_data.median()\n",
    "medians"
   ]
  },
  {
   "cell_type": "code",
   "execution_count": 24,
   "id": "63e07285-6d2f-44d0-aa48-bf9dbdb87ee4",
   "metadata": {},
   "outputs": [
    {
     "data": {
      "text/plain": [
       "id            1.0\n",
       "age          54.0\n",
       "trestbps    120.0\n",
       "chol          0.0\n",
       "thalch      150.0\n",
       "oldpeak       0.0\n",
       "ca            0.0\n",
       "num           0.0\n",
       "Name: 0, dtype: float64"
      ]
     },
     "execution_count": 24,
     "metadata": {},
     "output_type": "execute_result"
    }
   ],
   "source": [
    "mode = numeric_data.mode().iloc[0]\n",
    "mode"
   ]
  },
  {
   "cell_type": "code",
   "execution_count": 26,
   "id": "3c5208f9-8119-4542-af54-42883d37d59b",
   "metadata": {},
   "outputs": [
    {
     "data": {
      "text/plain": [
       "id          265.725422\n",
       "age           9.424685\n",
       "trestbps     19.066070\n",
       "chol        110.780810\n",
       "thalch       25.926276\n",
       "oldpeak       1.091226\n",
       "ca            0.935653\n",
       "num           1.142693\n",
       "dtype: float64"
      ]
     },
     "execution_count": 26,
     "metadata": {},
     "output_type": "execute_result"
    }
   ],
   "source": [
    "sample_std = numeric_data.std()\n",
    "sample_std"
   ]
  },
  {
   "cell_type": "code",
   "execution_count": 28,
   "id": "4079d5c7-1fd8-48b6-a646-81fb7b9e3efe",
   "metadata": {},
   "outputs": [
    {
     "data": {
      "text/plain": [
       "id          70610.000000\n",
       "age            88.824691\n",
       "trestbps      363.515007\n",
       "chol        12272.387943\n",
       "thalch        672.171813\n",
       "oldpeak         1.190775\n",
       "ca              0.875447\n",
       "num             1.305748\n",
       "dtype: float64"
      ]
     },
     "execution_count": 28,
     "metadata": {},
     "output_type": "execute_result"
    }
   ],
   "source": [
    "sample_variance = numeric_data.var()\n",
    "sample_variance"
   ]
  },
  {
   "cell_type": "code",
   "execution_count": 30,
   "id": "bb9fd702-a08d-4f08-926b-e989c58a3000",
   "metadata": {},
   "outputs": [
    {
     "data": {
      "text/plain": [
       "id          0.000000\n",
       "age        -0.195994\n",
       "trestbps    0.213334\n",
       "chol       -0.613836\n",
       "thalch     -0.211119\n",
       "oldpeak     1.041427\n",
       "ca          1.165978\n",
       "num         0.968880\n",
       "dtype: float64"
      ]
     },
     "execution_count": 30,
     "metadata": {},
     "output_type": "execute_result"
    }
   ],
   "source": [
    "skewness = numeric_data.skew()\n",
    "skewness"
   ]
  },
  {
   "cell_type": "code",
   "execution_count": 32,
   "id": "ebb31a23-797e-44a1-9837-4e6dc9064e3f",
   "metadata": {},
   "outputs": [
    {
     "data": {
      "text/plain": [
       "id         -1.200000\n",
       "age        -0.382930\n",
       "trestbps    2.958664\n",
       "chol        0.062273\n",
       "thalch     -0.479725\n",
       "oldpeak     1.127069\n",
       "ca          0.199498\n",
       "num        -0.104325\n",
       "dtype: float64"
      ]
     },
     "execution_count": 32,
     "metadata": {},
     "output_type": "execute_result"
    }
   ],
   "source": [
    "kurtosis = numeric_data.kurt()\n",
    "kurtosis"
   ]
  },
  {
   "cell_type": "code",
   "execution_count": 34,
   "id": "d4124d70-192c-496b-99a6-e48c71b43d8c",
   "metadata": {},
   "outputs": [
    {
     "name": "stdout",
     "output_type": "stream",
     "text": [
      "pasangan variable dengan kolerasi tertinggi: ('ca', 'num')\n",
      "nilai kolerasi teringgi: 0.5162163234345344\n"
     ]
    }
   ],
   "source": [
    "correlation_matrix = numeric_data.corr()\n",
    "\n",
    "correlation_matrix_no_diag = correlation_matrix.where(~np.eye(correlation_matrix.shape[0], dtype=bool))\n",
    "max_corr = correlation_matrix_no_diag.abs().max().max()\n",
    "\n",
    "highest_corr_pair = correlation_matrix_no_diag.abs().stack().idxmax()\n",
    "\n",
    "print(\"pasangan variable dengan kolerasi tertinggi:\", highest_corr_pair)\n",
    "print(\"nilai kolerasi teringgi:\",max_corr)"
   ]
  },
  {
   "cell_type": "code",
   "execution_count": 46,
   "id": "6d49617e-9684-4bf1-a63d-08305571d422",
   "metadata": {},
   "outputs": [
    {
     "data": {
      "image/png": "[encoded data removed]",
      "text/plain": [
       "<Figure size 1000x1000 with 9 Axes>"
      ]
     },
     "metadata": {},
     "output_type": "display_data"
    }
   ],
   "source": [
    "numeric_data.hist(figsize=(10, 10))\n",
    "plt.tight_layout()\n",
    "plt.show()"
   ]
  },
  {
   "cell_type": "code",
   "execution_count": 37,
   "id": "05a242e2-73c3-4bbc-8cff-a0273502677f",
   "metadata": {},
   "outputs": [
    {
     "data": {
      "image/png": "[encoded data removed]",
      "text/plain": [
       "<Figure size 1200x1200 with 16 Axes>"
      ]
     },
     "metadata": {},
     "output_type": "display_data"
    }
   ],
   "source": [
    "numeric_data.plot(kind='box', subplots=True, layout=(4, 4), figsize=(12, 12), vert=False)\n",
    "plt.tight_layout()\n",
    "plt.show()"
   ]
  },
  {
   "cell_type": "code",
   "execution_count": 40,
   "id": "ff1d8eac-b9cc-4ddc-ac70-cb007b05dee6",
   "metadata": {},
   "outputs": [
    {
     "data": {
      "image/png": "[encoded data removed]",
      "text/plain": [
       "<Figure size 800x600 with 1 Axes>"
      ]
     },
     "metadata": {},
     "output_type": "display_data"
    }
   ],
   "source": [
    "plt.figure(figsize=(8, 6))\n",
    "plt.scatter(mydata['ca'], mydata['num'], alpha=0.6)\n",
    "plt.title('Scatter Plot: ca vs num')\n",
    "plt.xlabel('ca')\n",
    "plt.ylabel('num')\n",
    "plt.grid(True)\n",
    "plt.show()"
   ]
  },
  {
   "cell_type": "markdown",
   "id": "fec7d223-3f71-469b-af57-c73ef288c689",
   "metadata": {},
   "source": [
    "LAPORAN PRATIKUM :\n",
    "\n",
    "Hasil dari eksplorasi dan analisis data menunjukkan bahwa terdapat 15 kolom yang dianalisis, dimana korelasi kuat ditemukan antara variabel ca dan num, nilai korelasi tertinggi adalah 0,516. Dari beberapa outlier, yaitu trestbps dengan nilai 128 dan chol dengan 183. Beberapa variabel berisi nilai yang hilang(missing value) yaitu trestbps dengan 59 nilai yang hilang(missing value), lalu chol dengan total nilai yang hilang(missing value) yakni 30.\n",
    "\n",
    "Dari analisis data, beberapa variabel menunjukkan distibusi yang tidak normal, dengan skewness negatif untuk variabel yang paling penting, yaitu kolesterol dan NFS. Variabel ca dan thal masing-masing memiliki 4 dan 9 missing values yang menurutku cukup signifikan dan itu harus di-addressed sebelum melanjutkan analisis. Korelasi yang sangat signifikan pada dataset ini adalah ca (jumlah pembuluh darah utama yang diwarnai) dengan num (indikator keparahan penyakit), yaitu 0.516, yang berarti mereka memiliki hubungan yang cukup signifikan. Juga, Penemuan lain meliputi adanya outlier pada variabel seperti oldpeak, yang perlu ditangani untuk mencegah terjadinya kesalahan dalam hasil analisis."
   ]
  }
 ],
 "metadata": {
  "kernelspec": {
   "display_name": "Python 3 (ipykernel)",
   "language": "python",
   "name": "python3"
  },
  "language_info": {
   "codemirror_mode": {
    "name": "ipython",
    "version": 3
   },
   "file_extension": ".py",
   "mimetype": "text/x-python",
   "name": "python",
   "nbconvert_exporter": "python",
   "pygments_lexer": "ipython3",
   "version": "3.12.4"
  }
 },
 "nbformat": 4,
 "nbformat_minor": 5
}
